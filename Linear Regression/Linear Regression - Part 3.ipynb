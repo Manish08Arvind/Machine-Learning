{
 "cells": [
  {
   "cell_type": "code",
   "execution_count": 1,
   "id": "84e36058",
   "metadata": {},
   "outputs": [],
   "source": [
    "import pandas as pd \n",
    "import numpy as np\n",
    "import matplotlib.pyplot as plt \n",
    "import seaborn as sns\n",
    "\n",
    "from warnings import filterwarnings\n",
    "filterwarnings('ignore')\n",
    "\n",
    "# To display the float values upto 6 decimal places     \n",
    "pd.options.display.float_format = '{:.6f}'.format\n",
    "\n",
    "import statsmodels\n",
    "import statsmodels.api as sm\n",
    "import statsmodels.stats.api as sms\n",
    "from statsmodels.compat import lzip\n",
    "from statsmodels.stats.outliers_influence import variance_inflation_factor\n",
    "from statsmodels.graphics.gofplots import qqplot\n",
    "from statsmodels.stats.anova import anova_lm\n",
    "from statsmodels.formula.api import ols\n",
    "from statsmodels.tools.eval_measures import rmse\n",
    "\n",
    "from scipy import stats\n",
    "from scipy.stats import shapiro\n",
    "\n",
    "from sklearn.model_selection import train_test_split\n",
    "from sklearn.metrics import mean_absolute_error\n",
    "from sklearn.metrics import mean_squared_error\n",
    "from sklearn.preprocessing import StandardScaler"
   ]
  },
  {
   "cell_type": "markdown",
   "id": "633e29bc",
   "metadata": {},
   "source": [
    "#### Reading and Understanding the data"
   ]
  },
  {
   "cell_type": "code",
   "execution_count": 2,
   "id": "5219b766",
   "metadata": {},
   "outputs": [
    {
     "data": {
      "text/html": [
       "<div>\n",
       "<style scoped>\n",
       "    .dataframe tbody tr th:only-of-type {\n",
       "        vertical-align: middle;\n",
       "    }\n",
       "\n",
       "    .dataframe tbody tr th {\n",
       "        vertical-align: top;\n",
       "    }\n",
       "\n",
       "    .dataframe thead th {\n",
       "        text-align: right;\n",
       "    }\n",
       "</style>\n",
       "<table border=\"1\" class=\"dataframe\">\n",
       "  <thead>\n",
       "    <tr style=\"text-align: right;\">\n",
       "      <th></th>\n",
       "      <th>Year</th>\n",
       "      <th>Type_of_yr</th>\n",
       "      <th>Emp_ID</th>\n",
       "      <th>Income</th>\n",
       "      <th>Other_Income</th>\n",
       "      <th>Overtime</th>\n",
       "      <th>Total_Income</th>\n",
       "      <th>Health_Insurance</th>\n",
       "      <th>Retirement</th>\n",
       "      <th>Other_Benefits</th>\n",
       "      <th>Total_Benefits</th>\n",
       "      <th>Total_Reimbursement</th>\n",
       "    </tr>\n",
       "  </thead>\n",
       "  <tbody>\n",
       "    <tr>\n",
       "      <th>0</th>\n",
       "      <td>2015</td>\n",
       "      <td>Financial</td>\n",
       "      <td>42865</td>\n",
       "      <td>92288.220000</td>\n",
       "      <td>267.450000</td>\n",
       "      <td>270.450000</td>\n",
       "      <td>92826.120000</td>\n",
       "      <td>12500.560000</td>\n",
       "      <td>20703.200000</td>\n",
       "      <td>7605.750000</td>\n",
       "      <td>40809.510000</td>\n",
       "      <td>133635.630000</td>\n",
       "    </tr>\n",
       "    <tr>\n",
       "      <th>1</th>\n",
       "      <td>2015</td>\n",
       "      <td>Calendar</td>\n",
       "      <td>28253</td>\n",
       "      <td>1466.380000</td>\n",
       "      <td>0.000000</td>\n",
       "      <td>350.230000</td>\n",
       "      <td>1816.610000</td>\n",
       "      <td>442.030000</td>\n",
       "      <td>3.000000</td>\n",
       "      <td>141.590000</td>\n",
       "      <td>586.620000</td>\n",
       "      <td>2403.230000</td>\n",
       "    </tr>\n",
       "    <tr>\n",
       "      <th>2</th>\n",
       "      <td>2018</td>\n",
       "      <td>Financial</td>\n",
       "      <td>30664</td>\n",
       "      <td>76536.950000</td>\n",
       "      <td>10855.940000</td>\n",
       "      <td>13586.720000</td>\n",
       "      <td>100979.610000</td>\n",
       "      <td>12464.610000</td>\n",
       "      <td>18636.190000</td>\n",
       "      <td>8011.410000</td>\n",
       "      <td>39112.210000</td>\n",
       "      <td>140091.820000</td>\n",
       "    </tr>\n",
       "    <tr>\n",
       "      <th>3</th>\n",
       "      <td>2018</td>\n",
       "      <td>Financial</td>\n",
       "      <td>19482</td>\n",
       "      <td>45659.880000</td>\n",
       "      <td>1625.370000</td>\n",
       "      <td>3.000000</td>\n",
       "      <td>47288.250000</td>\n",
       "      <td>0.000000</td>\n",
       "      <td>10084.200000</td>\n",
       "      <td>3936.630000</td>\n",
       "      <td>14020.830000</td>\n",
       "      <td>61309.080000</td>\n",
       "    </tr>\n",
       "    <tr>\n",
       "      <th>4</th>\n",
       "      <td>2017</td>\n",
       "      <td>Financial</td>\n",
       "      <td>7183</td>\n",
       "      <td>41832.000000</td>\n",
       "      <td>0.000000</td>\n",
       "      <td>6.000000</td>\n",
       "      <td>41838.000000</td>\n",
       "      <td>5908.520000</td>\n",
       "      <td>7621.600000</td>\n",
       "      <td>3254.500000</td>\n",
       "      <td>16784.620000</td>\n",
       "      <td>58622.620000</td>\n",
       "    </tr>\n",
       "  </tbody>\n",
       "</table>\n",
       "</div>"
      ],
      "text/plain": [
       "   Year Type_of_yr  Emp_ID       Income  Other_Income     Overtime  \\\n",
       "0  2015  Financial   42865 92288.220000    267.450000   270.450000   \n",
       "1  2015   Calendar   28253  1466.380000      0.000000   350.230000   \n",
       "2  2018  Financial   30664 76536.950000  10855.940000 13586.720000   \n",
       "3  2018  Financial   19482 45659.880000   1625.370000     3.000000   \n",
       "4  2017  Financial    7183 41832.000000      0.000000     6.000000   \n",
       "\n",
       "   Total_Income  Health_Insurance   Retirement  Other_Benefits  \\\n",
       "0  92826.120000      12500.560000 20703.200000     7605.750000   \n",
       "1   1816.610000        442.030000     3.000000      141.590000   \n",
       "2 100979.610000      12464.610000 18636.190000     8011.410000   \n",
       "3  47288.250000          0.000000 10084.200000     3936.630000   \n",
       "4  41838.000000       5908.520000  7621.600000     3254.500000   \n",
       "\n",
       "   Total_Benefits  Total_Reimbursement  \n",
       "0    40809.510000        133635.630000  \n",
       "1      586.620000          2403.230000  \n",
       "2    39112.210000        140091.820000  \n",
       "3    14020.830000         61309.080000  \n",
       "4    16784.620000         58622.620000  "
      ]
     },
     "execution_count": 2,
     "metadata": {},
     "output_type": "execute_result"
    }
   ],
   "source": [
    "df = pd.read_csv('Emp_reimb.csv')\n",
    "df.head()"
   ]
  },
  {
   "cell_type": "code",
   "execution_count": 3,
   "id": "2bc35810",
   "metadata": {},
   "outputs": [
    {
     "data": {
      "text/plain": [
       "(49794, 12)"
      ]
     },
     "execution_count": 3,
     "metadata": {},
     "output_type": "execute_result"
    }
   ],
   "source": [
    "df.shape"
   ]
  },
  {
   "cell_type": "code",
   "execution_count": 4,
   "id": "e2985edc",
   "metadata": {},
   "outputs": [
    {
     "name": "stdout",
     "output_type": "stream",
     "text": [
      "<class 'pandas.core.frame.DataFrame'>\n",
      "RangeIndex: 49794 entries, 0 to 49793\n",
      "Data columns (total 12 columns):\n",
      " #   Column               Non-Null Count  Dtype  \n",
      "---  ------               --------------  -----  \n",
      " 0   Year                 49794 non-null  int64  \n",
      " 1   Type_of_yr           49794 non-null  object \n",
      " 2   Emp_ID               49794 non-null  int64  \n",
      " 3   Income               49794 non-null  float64\n",
      " 4   Other_Income         49794 non-null  float64\n",
      " 5   Overtime             49794 non-null  float64\n",
      " 6   Total_Income         49794 non-null  float64\n",
      " 7   Health_Insurance     49794 non-null  float64\n",
      " 8   Retirement           49794 non-null  float64\n",
      " 9   Other_Benefits       49794 non-null  float64\n",
      " 10  Total_Benefits       49794 non-null  float64\n",
      " 11  Total_Reimbursement  49794 non-null  float64\n",
      "dtypes: float64(9), int64(2), object(1)\n",
      "memory usage: 4.6+ MB\n"
     ]
    }
   ],
   "source": [
    "df.info()"
   ]
  },
  {
   "cell_type": "markdown",
   "id": "56d63ff2",
   "metadata": {},
   "source": [
    "From the above info, we see that \"Type_of_yr\" is only categorical and the other variables are numerical.\n",
    "\n",
    "As per the data definition, \"Year\" is of categorical data type but here it got iterpreted as int64. Therefore, this will be converted to 'object' datatype. "
   ]
  },
  {
   "cell_type": "code",
   "execution_count": 5,
   "id": "eb464f76",
   "metadata": {},
   "outputs": [],
   "source": [
    "df['Year'] = df['Year'].astype('object')"
   ]
  },
  {
   "cell_type": "code",
   "execution_count": 6,
   "id": "7a2b5691",
   "metadata": {},
   "outputs": [
    {
     "data": {
      "text/plain": [
       "Year                    object\n",
       "Type_of_yr              object\n",
       "Emp_ID                   int64\n",
       "Income                 float64\n",
       "Other_Income           float64\n",
       "Overtime               float64\n",
       "Total_Income           float64\n",
       "Health_Insurance       float64\n",
       "Retirement             float64\n",
       "Other_Benefits         float64\n",
       "Total_Benefits         float64\n",
       "Total_Reimbursement    float64\n",
       "dtype: object"
      ]
     },
     "execution_count": 6,
     "metadata": {},
     "output_type": "execute_result"
    }
   ],
   "source": [
    "df.dtypes"
   ]
  },
  {
   "cell_type": "markdown",
   "id": "e7c64e9a",
   "metadata": {},
   "source": [
    "#### Remove insignificant variables"
   ]
  },
  {
   "cell_type": "markdown",
   "id": "5b0b1827",
   "metadata": {},
   "source": [
    "The variable Emp_ID has the details of employee ID numbers and hence it doesn't serve much use for further analysis. "
   ]
  },
  {
   "cell_type": "code",
   "execution_count": 7,
   "id": "c27c1fae",
   "metadata": {},
   "outputs": [
    {
     "data": {
      "text/html": [
       "<div>\n",
       "<style scoped>\n",
       "    .dataframe tbody tr th:only-of-type {\n",
       "        vertical-align: middle;\n",
       "    }\n",
       "\n",
       "    .dataframe tbody tr th {\n",
       "        vertical-align: top;\n",
       "    }\n",
       "\n",
       "    .dataframe thead th {\n",
       "        text-align: right;\n",
       "    }\n",
       "</style>\n",
       "<table border=\"1\" class=\"dataframe\">\n",
       "  <thead>\n",
       "    <tr style=\"text-align: right;\">\n",
       "      <th></th>\n",
       "      <th>Year</th>\n",
       "      <th>Type_of_yr</th>\n",
       "      <th>Income</th>\n",
       "      <th>Other_Income</th>\n",
       "      <th>Overtime</th>\n",
       "      <th>Total_Income</th>\n",
       "      <th>Health_Insurance</th>\n",
       "      <th>Retirement</th>\n",
       "      <th>Other_Benefits</th>\n",
       "      <th>Total_Benefits</th>\n",
       "      <th>Total_Reimbursement</th>\n",
       "    </tr>\n",
       "  </thead>\n",
       "  <tbody>\n",
       "    <tr>\n",
       "      <th>0</th>\n",
       "      <td>2015</td>\n",
       "      <td>Financial</td>\n",
       "      <td>92288.220000</td>\n",
       "      <td>267.450000</td>\n",
       "      <td>270.450000</td>\n",
       "      <td>92826.120000</td>\n",
       "      <td>12500.560000</td>\n",
       "      <td>20703.200000</td>\n",
       "      <td>7605.750000</td>\n",
       "      <td>40809.510000</td>\n",
       "      <td>133635.630000</td>\n",
       "    </tr>\n",
       "    <tr>\n",
       "      <th>1</th>\n",
       "      <td>2015</td>\n",
       "      <td>Calendar</td>\n",
       "      <td>1466.380000</td>\n",
       "      <td>0.000000</td>\n",
       "      <td>350.230000</td>\n",
       "      <td>1816.610000</td>\n",
       "      <td>442.030000</td>\n",
       "      <td>3.000000</td>\n",
       "      <td>141.590000</td>\n",
       "      <td>586.620000</td>\n",
       "      <td>2403.230000</td>\n",
       "    </tr>\n",
       "    <tr>\n",
       "      <th>2</th>\n",
       "      <td>2018</td>\n",
       "      <td>Financial</td>\n",
       "      <td>76536.950000</td>\n",
       "      <td>10855.940000</td>\n",
       "      <td>13586.720000</td>\n",
       "      <td>100979.610000</td>\n",
       "      <td>12464.610000</td>\n",
       "      <td>18636.190000</td>\n",
       "      <td>8011.410000</td>\n",
       "      <td>39112.210000</td>\n",
       "      <td>140091.820000</td>\n",
       "    </tr>\n",
       "  </tbody>\n",
       "</table>\n",
       "</div>"
      ],
      "text/plain": [
       "   Year Type_of_yr       Income  Other_Income     Overtime  Total_Income  \\\n",
       "0  2015  Financial 92288.220000    267.450000   270.450000  92826.120000   \n",
       "1  2015   Calendar  1466.380000      0.000000   350.230000   1816.610000   \n",
       "2  2018  Financial 76536.950000  10855.940000 13586.720000 100979.610000   \n",
       "\n",
       "   Health_Insurance   Retirement  Other_Benefits  Total_Benefits  \\\n",
       "0      12500.560000 20703.200000     7605.750000    40809.510000   \n",
       "1        442.030000     3.000000      141.590000      586.620000   \n",
       "2      12464.610000 18636.190000     8011.410000    39112.210000   \n",
       "\n",
       "   Total_Reimbursement  \n",
       "0        133635.630000  \n",
       "1          2403.230000  \n",
       "2        140091.820000  "
      ]
     },
     "execution_count": 7,
     "metadata": {},
     "output_type": "execute_result"
    }
   ],
   "source": [
    "df = df.drop('Emp_ID', axis = 1)\n",
    "df.head(3)"
   ]
  },
  {
   "cell_type": "markdown",
   "id": "d1ba3c59",
   "metadata": {},
   "source": [
    "#### Outlier Treatment and Analysis"
   ]
  },
  {
   "cell_type": "code",
   "execution_count": 8,
   "id": "cc4a6e1d",
   "metadata": {},
   "outputs": [
    {
     "data": {
      "image/png": "[encoded data removed]",
      "text/plain": [
       "<Figure size 2000x1000 with 1 Axes>"
      ]
     },
     "metadata": {},
     "output_type": "display_data"
    }
   ],
   "source": [
    "plt.figure(figsize = (20,10))\n",
    "df.boxplot()\n",
    "plt.title(\"Box-Whiskers Plot for Numerical Variables\")\n",
    "plt.xticks()\n",
    "plt.show()"
   ]
  },
  {
   "cell_type": "markdown",
   "id": "11e21994",
   "metadata": {},
   "source": [
    "The variables Income, Total_income and Total_Reimbursement have a larger range of values as compared to other variables. Let's visualize the other variables once more without the former three to obtain the distribution of the later."
   ]
  },
  {
   "cell_type": "code",
   "execution_count": 9,
   "id": "b8d52729",
   "metadata": {},
   "outputs": [
    {
     "data": {
      "text/plain": [
       "Index(['Year', 'Type_of_yr', 'Income', 'Other_Income', 'Overtime',\n",
       "       'Total_Income', 'Health_Insurance', 'Retirement', 'Other_Benefits',\n",
       "       'Total_Benefits', 'Total_Reimbursement'],\n",
       "      dtype='object')"
      ]
     },
     "execution_count": 9,
     "metadata": {},
     "output_type": "execute_result"
    }
   ],
   "source": [
    "df.columns"
   ]
  },
  {
   "cell_type": "code",
   "execution_count": 10,
   "id": "10e3de8d",
   "metadata": {},
   "outputs": [
    {
     "data": {
      "image/png": "[encoded data removed]",
      "text/plain": [
       "<Figure size 2000x1000 with 1 Axes>"
      ]
     },
     "metadata": {},
     "output_type": "display_data"
    }
   ],
   "source": [
    "plt.figure(figsize = (20,10))\n",
    "df.loc[:,['Other_Income', 'Overtime', 'Health_Insurance', 'Retirement', 'Other_Benefits', 'Total_Benefits']].boxplot()\n",
    "plt.title('Distribution of Numerical Variables excluding \"Income\",\"Total_Income\",\"Total_Reimbursement\"')\n",
    "plt.xticks()\n",
    "plt.show()"
   ]
  },
  {
   "cell_type": "markdown",
   "id": "e5b89598",
   "metadata": {},
   "source": [
    "Therefore, all variables except \"Health_Insurance\" have outliers. "
   ]
  },
  {
   "cell_type": "code",
   "execution_count": 11,
   "id": "93332f14",
   "metadata": {},
   "outputs": [],
   "source": [
    "numeric_cols = list(df.dtypes[df.dtypes=='float64'].index)"
   ]
  },
  {
   "cell_type": "code",
   "execution_count": 12,
   "id": "e4942d6e",
   "metadata": {},
   "outputs": [
    {
     "data": {
      "text/plain": [
       "(37601, 11)"
      ]
     },
     "execution_count": 12,
     "metadata": {},
     "output_type": "execute_result"
    }
   ],
   "source": [
    "# first quartile\n",
    "q1 = df[numeric_cols].quantile(0.25)\n",
    "\n",
    "# Third quantile\n",
    "q3 = df[numeric_cols].quantile(0.75)\n",
    "\n",
    "IQR = q3 - q1\n",
    "\n",
    "df = df[~((df[numeric_cols] < (q1-1.5*IQR)) | (df[numeric_cols] > (q3+1.5*IQR))).any(axis=1)]\n",
    "df.shape"
   ]
  },
  {
   "cell_type": "markdown",
   "id": "9267663e",
   "metadata": {},
   "source": [
    "#### Missing Values Analysis and Treatment"
   ]
  },
  {
   "cell_type": "code",
   "execution_count": 13,
   "id": "20b240e7",
   "metadata": {},
   "outputs": [
    {
     "data": {
      "text/plain": [
       "Year                   0\n",
       "Type_of_yr             0\n",
       "Income                 0\n",
       "Other_Income           0\n",
       "Overtime               0\n",
       "Total_Income           0\n",
       "Health_Insurance       0\n",
       "Retirement             0\n",
       "Other_Benefits         0\n",
       "Total_Benefits         0\n",
       "Total_Reimbursement    0\n",
       "dtype: int64"
      ]
     },
     "execution_count": 13,
     "metadata": {},
     "output_type": "execute_result"
    }
   ],
   "source": [
    "df.isnull().sum()"
   ]
  },
  {
   "cell_type": "markdown",
   "id": "1409378b",
   "metadata": {},
   "source": [
    "There are no missing values"
   ]
  },
  {
   "cell_type": "markdown",
   "id": "b3ba1fa0",
   "metadata": {},
   "source": [
    "#### Scale Data"
   ]
  },
  {
   "cell_type": "code",
   "execution_count": 14,
   "id": "40f2aaee",
   "metadata": {},
   "outputs": [],
   "source": [
    "scale = StandardScaler()"
   ]
  },
  {
   "cell_type": "code",
   "execution_count": 15,
   "id": "49162812",
   "metadata": {},
   "outputs": [],
   "source": [
    "df.iloc[:,2:] = scale.fit_transform(df.iloc[:,2:])"
   ]
  },
  {
   "cell_type": "code",
   "execution_count": 16,
   "id": "c4abd38c",
   "metadata": {},
   "outputs": [
    {
     "data": {
      "text/html": [
       "<div>\n",
       "<style scoped>\n",
       "    .dataframe tbody tr th:only-of-type {\n",
       "        vertical-align: middle;\n",
       "    }\n",
       "\n",
       "    .dataframe tbody tr th {\n",
       "        vertical-align: top;\n",
       "    }\n",
       "\n",
       "    .dataframe thead th {\n",
       "        text-align: right;\n",
       "    }\n",
       "</style>\n",
       "<table border=\"1\" class=\"dataframe\">\n",
       "  <thead>\n",
       "    <tr style=\"text-align: right;\">\n",
       "      <th></th>\n",
       "      <th>Year</th>\n",
       "      <th>Type_of_yr</th>\n",
       "      <th>Income</th>\n",
       "      <th>Other_Income</th>\n",
       "      <th>Overtime</th>\n",
       "      <th>Total_Income</th>\n",
       "      <th>Health_Insurance</th>\n",
       "      <th>Retirement</th>\n",
       "      <th>Other_Benefits</th>\n",
       "      <th>Total_Benefits</th>\n",
       "      <th>Total_Reimbursement</th>\n",
       "    </tr>\n",
       "  </thead>\n",
       "  <tbody>\n",
       "    <tr>\n",
       "      <th>0</th>\n",
       "      <td>2015</td>\n",
       "      <td>Financial</td>\n",
       "      <td>0.979285</td>\n",
       "      <td>-0.476490</td>\n",
       "      <td>-0.234452</td>\n",
       "      <td>0.921936</td>\n",
       "      <td>0.911633</td>\n",
       "      <td>1.173979</td>\n",
       "      <td>1.141809</td>\n",
       "      <td>1.156404</td>\n",
       "      <td>0.996741</td>\n",
       "    </tr>\n",
       "    <tr>\n",
       "      <th>1</th>\n",
       "      <td>2015</td>\n",
       "      <td>Calendar</td>\n",
       "      <td>-1.259498</td>\n",
       "      <td>-0.588288</td>\n",
       "      <td>-0.175596</td>\n",
       "      <td>-1.270543</td>\n",
       "      <td>-1.504323</td>\n",
       "      <td>-1.186991</td>\n",
       "      <td>-1.269397</td>\n",
       "      <td>-1.374579</td>\n",
       "      <td>-1.312368</td>\n",
       "    </tr>\n",
       "    <tr>\n",
       "      <th>3</th>\n",
       "      <td>2018</td>\n",
       "      <td>Financial</td>\n",
       "      <td>-0.170116</td>\n",
       "      <td>0.091141</td>\n",
       "      <td>-0.431758</td>\n",
       "      <td>-0.175101</td>\n",
       "      <td>-1.592885</td>\n",
       "      <td>-0.037175</td>\n",
       "      <td>-0.043455</td>\n",
       "      <td>-0.529245</td>\n",
       "      <td>-0.275886</td>\n",
       "    </tr>\n",
       "    <tr>\n",
       "      <th>4</th>\n",
       "      <td>2017</td>\n",
       "      <td>Financial</td>\n",
       "      <td>-0.264475</td>\n",
       "      <td>-0.588288</td>\n",
       "      <td>-0.429544</td>\n",
       "      <td>-0.306401</td>\n",
       "      <td>-0.409098</td>\n",
       "      <td>-0.318048</td>\n",
       "      <td>-0.263809</td>\n",
       "      <td>-0.355337</td>\n",
       "      <td>-0.323156</td>\n",
       "    </tr>\n",
       "    <tr>\n",
       "      <th>5</th>\n",
       "      <td>2017</td>\n",
       "      <td>Calendar</td>\n",
       "      <td>0.531729</td>\n",
       "      <td>0.015084</td>\n",
       "      <td>-0.431020</td>\n",
       "      <td>0.506452</td>\n",
       "      <td>0.989326</td>\n",
       "      <td>0.506986</td>\n",
       "      <td>0.698634</td>\n",
       "      <td>0.726502</td>\n",
       "      <td>0.573061</td>\n",
       "    </tr>\n",
       "    <tr>\n",
       "      <th>...</th>\n",
       "      <td>...</td>\n",
       "      <td>...</td>\n",
       "      <td>...</td>\n",
       "      <td>...</td>\n",
       "      <td>...</td>\n",
       "      <td>...</td>\n",
       "      <td>...</td>\n",
       "      <td>...</td>\n",
       "      <td>...</td>\n",
       "      <td>...</td>\n",
       "      <td>...</td>\n",
       "    </tr>\n",
       "    <tr>\n",
       "      <th>49788</th>\n",
       "      <td>2015</td>\n",
       "      <td>Calendar</td>\n",
       "      <td>-1.032798</td>\n",
       "      <td>-0.560728</td>\n",
       "      <td>-0.430282</td>\n",
       "      <td>-1.055717</td>\n",
       "      <td>-0.961290</td>\n",
       "      <td>-1.186991</td>\n",
       "      <td>-1.031131</td>\n",
       "      <td>-1.157619</td>\n",
       "      <td>-1.094793</td>\n",
       "    </tr>\n",
       "    <tr>\n",
       "      <th>49790</th>\n",
       "      <td>2018</td>\n",
       "      <td>Financial</td>\n",
       "      <td>-1.251584</td>\n",
       "      <td>-0.588288</td>\n",
       "      <td>-0.428069</td>\n",
       "      <td>-1.271053</td>\n",
       "      <td>-1.480024</td>\n",
       "      <td>-1.186991</td>\n",
       "      <td>-1.268179</td>\n",
       "      <td>-1.366710</td>\n",
       "      <td>-1.310541</td>\n",
       "    </tr>\n",
       "    <tr>\n",
       "      <th>49791</th>\n",
       "      <td>2016</td>\n",
       "      <td>Financial</td>\n",
       "      <td>-0.394608</td>\n",
       "      <td>-0.588288</td>\n",
       "      <td>-0.430282</td>\n",
       "      <td>-0.433604</td>\n",
       "      <td>-0.219302</td>\n",
       "      <td>-0.411017</td>\n",
       "      <td>-0.322883</td>\n",
       "      <td>-0.358526</td>\n",
       "      <td>-0.416955</td>\n",
       "    </tr>\n",
       "    <tr>\n",
       "      <th>49792</th>\n",
       "      <td>2016</td>\n",
       "      <td>Financial</td>\n",
       "      <td>-0.137198</td>\n",
       "      <td>3.986109</td>\n",
       "      <td>-0.430282</td>\n",
       "      <td>0.081590</td>\n",
       "      <td>0.535788</td>\n",
       "      <td>-0.178629</td>\n",
       "      <td>0.205200</td>\n",
       "      <td>0.109694</td>\n",
       "      <td>0.090266</td>\n",
       "    </tr>\n",
       "    <tr>\n",
       "      <th>49793</th>\n",
       "      <td>2018</td>\n",
       "      <td>Financial</td>\n",
       "      <td>0.411850</td>\n",
       "      <td>0.100639</td>\n",
       "      <td>-0.430282</td>\n",
       "      <td>0.394249</td>\n",
       "      <td>0.904431</td>\n",
       "      <td>0.537465</td>\n",
       "      <td>0.575773</td>\n",
       "      <td>0.692722</td>\n",
       "      <td>0.481663</td>\n",
       "    </tr>\n",
       "  </tbody>\n",
       "</table>\n",
       "<p>37601 rows × 11 columns</p>\n",
       "</div>"
      ],
      "text/plain": [
       "       Year Type_of_yr    Income  Other_Income  Overtime  Total_Income  \\\n",
       "0      2015  Financial  0.979285     -0.476490 -0.234452      0.921936   \n",
       "1      2015   Calendar -1.259498     -0.588288 -0.175596     -1.270543   \n",
       "3      2018  Financial -0.170116      0.091141 -0.431758     -0.175101   \n",
       "4      2017  Financial -0.264475     -0.588288 -0.429544     -0.306401   \n",
       "5      2017   Calendar  0.531729      0.015084 -0.431020      0.506452   \n",
       "...     ...        ...       ...           ...       ...           ...   \n",
       "49788  2015   Calendar -1.032798     -0.560728 -0.430282     -1.055717   \n",
       "49790  2018  Financial -1.251584     -0.588288 -0.428069     -1.271053   \n",
       "49791  2016  Financial -0.394608     -0.588288 -0.430282     -0.433604   \n",
       "49792  2016  Financial -0.137198      3.986109 -0.430282      0.081590   \n",
       "49793  2018  Financial  0.411850      0.100639 -0.430282      0.394249   \n",
       "\n",
       "       Health_Insurance  Retirement  Other_Benefits  Total_Benefits  \\\n",
       "0              0.911633    1.173979        1.141809        1.156404   \n",
       "1             -1.504323   -1.186991       -1.269397       -1.374579   \n",
       "3             -1.592885   -0.037175       -0.043455       -0.529245   \n",
       "4             -0.409098   -0.318048       -0.263809       -0.355337   \n",
       "5              0.989326    0.506986        0.698634        0.726502   \n",
       "...                 ...         ...             ...             ...   \n",
       "49788         -0.961290   -1.186991       -1.031131       -1.157619   \n",
       "49790         -1.480024   -1.186991       -1.268179       -1.366710   \n",
       "49791         -0.219302   -0.411017       -0.322883       -0.358526   \n",
       "49792          0.535788   -0.178629        0.205200        0.109694   \n",
       "49793          0.904431    0.537465        0.575773        0.692722   \n",
       "\n",
       "       Total_Reimbursement  \n",
       "0                 0.996741  \n",
       "1                -1.312368  \n",
       "3                -0.275886  \n",
       "4                -0.323156  \n",
       "5                 0.573061  \n",
       "...                    ...  \n",
       "49788            -1.094793  \n",
       "49790            -1.310541  \n",
       "49791            -0.416955  \n",
       "49792             0.090266  \n",
       "49793             0.481663  \n",
       "\n",
       "[37601 rows x 11 columns]"
      ]
     },
     "execution_count": 16,
     "metadata": {},
     "output_type": "execute_result"
    }
   ],
   "source": [
    "df"
   ]
  },
  {
   "cell_type": "code",
   "execution_count": 17,
   "id": "e904964a",
   "metadata": {},
   "outputs": [
    {
     "data": {
      "text/html": [
       "<div>\n",
       "<style scoped>\n",
       "    .dataframe tbody tr th:only-of-type {\n",
       "        vertical-align: middle;\n",
       "    }\n",
       "\n",
       "    .dataframe tbody tr th {\n",
       "        vertical-align: top;\n",
       "    }\n",
       "\n",
       "    .dataframe thead th {\n",
       "        text-align: right;\n",
       "    }\n",
       "</style>\n",
       "<table border=\"1\" class=\"dataframe\">\n",
       "  <thead>\n",
       "    <tr style=\"text-align: right;\">\n",
       "      <th></th>\n",
       "      <th>Income</th>\n",
       "      <th>Other_Income</th>\n",
       "      <th>Overtime</th>\n",
       "      <th>Total_Income</th>\n",
       "      <th>Health_Insurance</th>\n",
       "      <th>Retirement</th>\n",
       "      <th>Other_Benefits</th>\n",
       "      <th>Total_Benefits</th>\n",
       "      <th>Total_Reimbursement</th>\n",
       "    </tr>\n",
       "  </thead>\n",
       "  <tbody>\n",
       "    <tr>\n",
       "      <th>Mean</th>\n",
       "      <td>0.000000</td>\n",
       "      <td>-0.000000</td>\n",
       "      <td>-0.000000</td>\n",
       "      <td>-0.000000</td>\n",
       "      <td>-0.000000</td>\n",
       "      <td>-0.000000</td>\n",
       "      <td>-0.000000</td>\n",
       "      <td>-0.000000</td>\n",
       "      <td>-0.000000</td>\n",
       "    </tr>\n",
       "    <tr>\n",
       "      <th>Standard Deviation</th>\n",
       "      <td>1.000000</td>\n",
       "      <td>1.000000</td>\n",
       "      <td>1.000000</td>\n",
       "      <td>1.000000</td>\n",
       "      <td>1.000000</td>\n",
       "      <td>1.000000</td>\n",
       "      <td>1.000000</td>\n",
       "      <td>1.000000</td>\n",
       "      <td>1.000000</td>\n",
       "    </tr>\n",
       "  </tbody>\n",
       "</table>\n",
       "</div>"
      ],
      "text/plain": [
       "                     Income  Other_Income  Overtime  Total_Income  \\\n",
       "Mean               0.000000     -0.000000 -0.000000     -0.000000   \n",
       "Standard Deviation 1.000000      1.000000  1.000000      1.000000   \n",
       "\n",
       "                    Health_Insurance  Retirement  Other_Benefits  \\\n",
       "Mean                       -0.000000   -0.000000       -0.000000   \n",
       "Standard Deviation          1.000000    1.000000        1.000000   \n",
       "\n",
       "                    Total_Benefits  Total_Reimbursement  \n",
       "Mean                     -0.000000            -0.000000  \n",
       "Standard Deviation        1.000000             1.000000  "
      ]
     },
     "execution_count": 17,
     "metadata": {},
     "output_type": "execute_result"
    }
   ],
   "source": [
    "pd.DataFrame([np.round(df.iloc[:,2:].mean()),np.round(df.iloc[:,2:].std())],index=['Mean','Standard Deviation'])"
   ]
  },
  {
   "cell_type": "markdown",
   "id": "bb7eb802",
   "metadata": {},
   "source": [
    "As we can see above the mean is 0 and standard deviation is 1 which goes along with the standard normal distribution property of mean = 0 and standard deviation 1."
   ]
  },
  {
   "cell_type": "markdown",
   "id": "253d4990",
   "metadata": {},
   "source": [
    "### Build MLR Model"
   ]
  },
  {
   "cell_type": "code",
   "execution_count": 18,
   "id": "8769ddba",
   "metadata": {},
   "outputs": [],
   "source": [
    "df_ind = df.drop(\"Total_Reimbursement\", axis = 1)\n",
    "df_dep = df[\"Total_Reimbursement\"]\n",
    "\n",
    "xc = sm.add_constant(df_ind)"
   ]
  },
  {
   "cell_type": "code",
   "execution_count": 19,
   "id": "c65b2d47",
   "metadata": {},
   "outputs": [
    {
     "name": "stdout",
     "output_type": "stream",
     "text": [
      "<class 'pandas.core.frame.DataFrame'>\n",
      "Int64Index: 37601 entries, 0 to 49793\n",
      "Data columns (total 11 columns):\n",
      " #   Column            Non-Null Count  Dtype  \n",
      "---  ------            --------------  -----  \n",
      " 0   const             37601 non-null  float64\n",
      " 1   Year              37601 non-null  object \n",
      " 2   Type_of_yr        37601 non-null  object \n",
      " 3   Income            37601 non-null  float64\n",
      " 4   Other_Income      37601 non-null  float64\n",
      " 5   Overtime          37601 non-null  float64\n",
      " 6   Total_Income      37601 non-null  float64\n",
      " 7   Health_Insurance  37601 non-null  float64\n",
      " 8   Retirement        37601 non-null  float64\n",
      " 9   Other_Benefits    37601 non-null  float64\n",
      " 10  Total_Benefits    37601 non-null  float64\n",
      "dtypes: float64(9), object(2)\n",
      "memory usage: 3.4+ MB\n"
     ]
    }
   ],
   "source": [
    "xc.info()"
   ]
  },
  {
   "cell_type": "code",
   "execution_count": 20,
   "id": "f629585d",
   "metadata": {},
   "outputs": [
    {
     "name": "stdout",
     "output_type": "stream",
     "text": [
      "                             OLS Regression Results                            \n",
      "===============================================================================\n",
      "Dep. Variable:     Total_Reimbursement   R-squared:                       1.000\n",
      "Model:                             OLS   Adj. R-squared:                  1.000\n",
      "Method:                  Least Squares   F-statistic:                 3.151e+34\n",
      "Date:                 Mon, 10 Feb 2025   Prob (F-statistic):               0.00\n",
      "Time:                         23:46:02   Log-Likelihood:             1.2757e+06\n",
      "No. Observations:                37601   AIC:                        -2.551e+06\n",
      "Df Residuals:                    37594   BIC:                        -2.551e+06\n",
      "Df Model:                            6                                         \n",
      "Covariance Type:             nonrobust                                         \n",
      "====================================================================================\n",
      "                       coef    std err          t      P>|t|      [0.025      0.975]\n",
      "------------------------------------------------------------------------------------\n",
      "const            -3.078e-17    2.3e-18    -13.382      0.000   -3.53e-17   -2.63e-17\n",
      "Income               0.3643   4.41e-18   8.26e+16      0.000       0.364       0.364\n",
      "Other_Income         0.0215   2.53e-18   8.48e+15      0.000       0.021       0.021\n",
      "Overtime             0.0122   2.48e-18   4.91e+15      0.000       0.012       0.012\n",
      "Total_Income         0.3576   4.29e-18   8.34e+16      0.000       0.358       0.358\n",
      "Health_Insurance     0.0609   4.28e-18   1.42e+16      0.000       0.061       0.061\n",
      "Retirement           0.1071   6.56e-18   1.63e+16      0.000       0.107       0.107\n",
      "Other_Benefits       0.0378   4.93e-18   7.67e+15      0.000       0.038       0.038\n",
      "Total_Benefits       0.0856   3.03e-18   2.82e+16      0.000       0.086       0.086\n",
      "==============================================================================\n",
      "Omnibus:                     5266.858   Durbin-Watson:                   1.977\n",
      "Prob(Omnibus):                  0.000   Jarque-Bera (JB):             8847.851\n",
      "Skew:                          -0.946   Prob(JB):                         0.00\n",
      "Kurtosis:                       4.438   Cond. No.                     6.85e+15\n",
      "==============================================================================\n",
      "\n",
      "Notes:\n",
      "[1] Standard Errors assume that the covariance matrix of the errors is correctly specified.\n",
      "[2] The smallest eigenvalue is 4.5e-27. This might indicate that there are\n",
      "strong multicollinearity problems or that the design matrix is singular.\n"
     ]
    }
   ],
   "source": [
    "base_model = sm.OLS(df_dep, xc.select_dtypes(np.number)).fit()\n",
    "print(base_model.summary())"
   ]
  },
  {
   "cell_type": "markdown",
   "id": "e73a913b",
   "metadata": {},
   "source": [
    "**Inference:** The R-Squared obtained here is 1 and this means the model explains 100% variation in the target variable which is not possible and is clear situation of overfitting."
   ]
  },
  {
   "cell_type": "markdown",
   "id": "d9a439cf",
   "metadata": {},
   "source": [
    "Let's check on some assumptions related to linear regression:\n",
    "\n",
    "**Autocorrelation**\n"
   ]
  },
  {
   "cell_type": "markdown",
   "id": "5403ffd6",
   "metadata": {},
   "source": [
    "Durbin-Watson value is 1.977 which is close to 2. Hence, **No Autocorrelation**."
   ]
  },
  {
   "cell_type": "markdown",
   "id": "43da458e",
   "metadata": {},
   "source": [
    "**Linear Relationship**"
   ]
  },
  {
   "cell_type": "code",
   "execution_count": 21,
   "id": "cbbc3602",
   "metadata": {},
   "outputs": [
    {
     "data": {
      "image/png": "[encoded data removed]",
      "text/plain": [
       "<Figure size 1500x1000 with 9 Axes>"
      ]
     },
     "metadata": {},
     "output_type": "display_data"
    }
   ],
   "source": [
    "plt.rcParams[\"figure.figsize\"] = (15,10)\n",
    "fig, ((ax1, ax2, ax3), (ax4, ax5, ax6), (ax7, ax8, ax9)) = plt.subplots(3, 3)\n",
    "ax1.scatter(df['Income'],df_dep)\n",
    "ax1.set_title('Income')\n",
    "\n",
    "ax2.scatter(df['Other_Income'],df_dep)\n",
    "ax2.set_title('Other_Income')\n",
    "\n",
    "ax3.scatter(df['Overtime'],df_dep)\n",
    "ax3.set_title('Overtime')\n",
    "\n",
    "ax4.scatter(df['Total_Income'],df_dep)\n",
    "ax4.set_title('Total_Income')\n",
    "\n",
    "ax5.scatter(df['Health_Insurance'],df_dep)\n",
    "ax5.set_title('Health_Insurance')\n",
    "\n",
    "ax6.scatter(df['Retirement'],df_dep)\n",
    "ax6.set_title('Retirement')\n",
    "\n",
    "# ax7 = fig.get_axes()[6] # Access the 7th subplot (index starts from 0)\n",
    "ax7.scatter(df['Other_Benefits'],df_dep)\n",
    "ax7.set_title('Other_Benefits')\n",
    "# plt.show()\n",
    "\n",
    "ax8 = fig.get_axes()[7] # Access the 8th subplot (index starts from 0)\n",
    "ax8.scatter(df['Total_Benefits'],df_dep)\n",
    "ax8.set_title('Total_Benefits')\n",
    "plt.show()"
   ]
  },
  {
   "cell_type": "markdown",
   "id": "4d7b68a3",
   "metadata": {},
   "source": [
    "All the above variables possess some amount of linearity. However, further testing is required for 'Other_Income' and 'Overtime'."
   ]
  },
  {
   "cell_type": "markdown",
   "id": "d28b2923",
   "metadata": {},
   "source": [
    "**Multicollinearity**"
   ]
  },
  {
   "cell_type": "markdown",
   "id": "f7f50aff",
   "metadata": {},
   "source": [
    "If CN < 100: No Multicollinearity\n",
    "\n",
    "If CN is between 100 and 1000: Moderate Multicollinearity\n",
    "\n",
    "If CN > 1000: High Multicollinearity"
   ]
  },
  {
   "cell_type": "code",
   "execution_count": 22,
   "id": "174dc160",
   "metadata": {},
   "outputs": [
    {
     "name": "stdout",
     "output_type": "stream",
     "text": [
      "Condition Number: 6848171030317194.0\n"
     ]
    }
   ],
   "source": [
    "print(\"Condition Number:\",base_model.condition_number)"
   ]
  },
  {
   "cell_type": "markdown",
   "id": "019f5d50",
   "metadata": {},
   "source": [
    "Based on the condition number obtained, we can say there exists severe multicollinearity in this data."
   ]
  },
  {
   "cell_type": "markdown",
   "id": "4e60283e",
   "metadata": {},
   "source": [
    "Indeed, VIF (Variance Inflation Factor) can be used to diagnose multicollinearity in this model."
   ]
  },
  {
   "cell_type": "code",
   "execution_count": 23,
   "id": "01a1c099",
   "metadata": {},
   "outputs": [
    {
     "data": {
      "text/html": [
       "<div>\n",
       "<style scoped>\n",
       "    .dataframe tbody tr th:only-of-type {\n",
       "        vertical-align: middle;\n",
       "    }\n",
       "\n",
       "    .dataframe tbody tr th {\n",
       "        vertical-align: top;\n",
       "    }\n",
       "\n",
       "    .dataframe thead th {\n",
       "        text-align: right;\n",
       "    }\n",
       "</style>\n",
       "<table border=\"1\" class=\"dataframe\">\n",
       "  <thead>\n",
       "    <tr style=\"text-align: right;\">\n",
       "      <th></th>\n",
       "      <th>Variable</th>\n",
       "      <th>VIF</th>\n",
       "    </tr>\n",
       "  </thead>\n",
       "  <tbody>\n",
       "    <tr>\n",
       "      <th>0</th>\n",
       "      <td>Income</td>\n",
       "      <td>inf</td>\n",
       "    </tr>\n",
       "    <tr>\n",
       "      <th>1</th>\n",
       "      <td>Other_Income</td>\n",
       "      <td>inf</td>\n",
       "    </tr>\n",
       "    <tr>\n",
       "      <th>2</th>\n",
       "      <td>Overtime</td>\n",
       "      <td>inf</td>\n",
       "    </tr>\n",
       "    <tr>\n",
       "      <th>3</th>\n",
       "      <td>Total_Income</td>\n",
       "      <td>inf</td>\n",
       "    </tr>\n",
       "    <tr>\n",
       "      <th>4</th>\n",
       "      <td>Health_Insurance</td>\n",
       "      <td>inf</td>\n",
       "    </tr>\n",
       "    <tr>\n",
       "      <th>5</th>\n",
       "      <td>Retirement</td>\n",
       "      <td>inf</td>\n",
       "    </tr>\n",
       "    <tr>\n",
       "      <th>6</th>\n",
       "      <td>Other_Benefits</td>\n",
       "      <td>inf</td>\n",
       "    </tr>\n",
       "    <tr>\n",
       "      <th>7</th>\n",
       "      <td>Total_Benefits</td>\n",
       "      <td>inf</td>\n",
       "    </tr>\n",
       "  </tbody>\n",
       "</table>\n",
       "</div>"
      ],
      "text/plain": [
       "           Variable  VIF\n",
       "0            Income  inf\n",
       "1      Other_Income  inf\n",
       "2          Overtime  inf\n",
       "3      Total_Income  inf\n",
       "4  Health_Insurance  inf\n",
       "5        Retirement  inf\n",
       "6    Other_Benefits  inf\n",
       "7    Total_Benefits  inf"
      ]
     },
     "execution_count": 23,
     "metadata": {},
     "output_type": "execute_result"
    }
   ],
   "source": [
    "vif_df = pd.DataFrame(columns = [\"Variable\",\"VIF\"])\n",
    "for i in range(df_ind.select_dtypes(include = np.number).shape[1]):\n",
    "    var_nm = df_ind.select_dtypes(include = np.number).columns[i]\n",
    "    vif_val = variance_inflation_factor(df_ind.select_dtypes(include = np.number).values,i)\n",
    "    temp_df = pd.DataFrame([[var_nm, vif_val]], columns = [\"Variable\", \"VIF\"])\n",
    "    vif_df = pd.concat([vif_df,temp_df])\n",
    "    \n",
    "vif_df.reset_index(drop = True, inplace = True)\n",
    "vif_df"
   ]
  },
  {
   "cell_type": "markdown",
   "id": "94db3e0d",
   "metadata": {},
   "source": [
    "As, VIF values show up \"inf\", we need to sort, remove and check the VIF iteratively."
   ]
  },
  {
   "cell_type": "markdown",
   "id": "2282d6f1",
   "metadata": {},
   "source": [
    "**Homoscedasticity - Constant Variance**"
   ]
  },
  {
   "cell_type": "markdown",
   "id": "9cff577a",
   "metadata": {},
   "source": [
    "Presence of Homoscedasticity tells us that the residuals is consistent across all the independent variables."
   ]
  },
  {
   "cell_type": "code",
   "execution_count": 24,
   "id": "c9245e0d",
   "metadata": {},
   "outputs": [
    {
     "data": {
      "text/plain": [
       "(0.3427316287888704, 0.9999999999999999, 'increasing')"
      ]
     },
     "execution_count": 24,
     "metadata": {},
     "output_type": "execute_result"
    }
   ],
   "source": [
    "sm.stats.diagnostic.het_goldfeldquandt(y = df_dep,x = df_ind.select_dtypes(include = np.number))"
   ]
  },
  {
   "cell_type": "code",
   "execution_count": 25,
   "id": "9414d1a9",
   "metadata": {},
   "outputs": [],
   "source": [
    "f_val,p_val,ordering = sm.stats.diagnostic.het_goldfeldquandt(y = df_dep,x = df_ind.select_dtypes(include = np.number))"
   ]
  },
  {
   "cell_type": "code",
   "execution_count": 26,
   "id": "be937615",
   "metadata": {},
   "outputs": [
    {
     "name": "stdout",
     "output_type": "stream",
     "text": [
      "0.9999999999999999\n"
     ]
    }
   ],
   "source": [
    "print(p_val)"
   ]
  },
  {
   "cell_type": "code",
   "execution_count": 27,
   "id": "334f0d1e",
   "metadata": {},
   "outputs": [],
   "source": [
    "# Ho: Variance is same among sub-samples/Variance is constant across the range of data.\n",
    "# H1: Variance is NOT constant across range of data."
   ]
  },
  {
   "cell_type": "markdown",
   "id": "48f85b6f",
   "metadata": {},
   "source": [
    "The p-value is 0.99 which is more than 0.05 therefore we fail to reject null hypothesis. Thus the variance is same across the data satisfying this assumption."
   ]
  },
  {
   "cell_type": "markdown",
   "id": "64dc62a4",
   "metadata": {},
   "source": [
    "**Residuals are normally distributed**"
   ]
  },
  {
   "cell_type": "code",
   "execution_count": 28,
   "id": "1079cf25",
   "metadata": {},
   "outputs": [
    {
     "data": {
      "image/png": "[encoded data removed]",
      "text/plain": [
       "<Figure size 1500x1000 with 1 Axes>"
      ]
     },
     "metadata": {},
     "output_type": "display_data"
    }
   ],
   "source": [
    "sm.qqplot(base_model.resid)\n",
    "plt.show()"
   ]
  },
  {
   "cell_type": "code",
   "execution_count": 29,
   "id": "56255efa",
   "metadata": {},
   "outputs": [],
   "source": [
    "# Jarque-Bera Test\n",
    "# Ho: Residuals are normally distributed\n",
    "# H1: Residuals are not normally distributed"
   ]
  },
  {
   "cell_type": "markdown",
   "id": "05e1e66b",
   "metadata": {},
   "source": [
    "Since, P-Value is less than 0.05, we reject null hypothesis. Therefore, Residuals are not normally distributed violating this assumption."
   ]
  },
  {
   "cell_type": "markdown",
   "id": "adad8d3b",
   "metadata": {},
   "source": [
    "**No Endogeneity**"
   ]
  },
  {
   "cell_type": "markdown",
   "id": "352bc646",
   "metadata": {},
   "source": [
    "This assumption checks if there is linear relationship between errors and independent variables."
   ]
  },
  {
   "cell_type": "code",
   "execution_count": 30,
   "id": "3833ffe6",
   "metadata": {},
   "outputs": [],
   "source": [
    "# Ho: Fit of model using full sample = Fit of model using central subset (Linear Relationship).\n",
    "# H1: Fit of model using full sample is worse compared to fit of model using central subset."
   ]
  },
  {
   "cell_type": "code",
   "execution_count": 31,
   "id": "f2cabbb9",
   "metadata": {},
   "outputs": [
    {
     "name": "stdout",
     "output_type": "stream",
     "text": [
      "P-Value 0.0\n"
     ]
    }
   ],
   "source": [
    "f_stat,p_val = sm.stats.diagnostic.linear_rainbow(base_model)\n",
    "print(\"P-Value\",p_val)"
   ]
  },
  {
   "cell_type": "markdown",
   "id": "bf5ba829",
   "metadata": {},
   "source": [
    "As, p-value is less than 0.05. We reject the null hypothesis and thereby conclude the fit of model using full sample is worse compared to the fit of model using central subset. This assumption is not satisfied."
   ]
  },
  {
   "cell_type": "markdown",
   "id": "1de471d5",
   "metadata": {},
   "source": [
    "**Using VIF to remove variables with high multicollinearity**"
   ]
  },
  {
   "cell_type": "code",
   "execution_count": 32,
   "id": "69bf2927",
   "metadata": {},
   "outputs": [
    {
     "name": "stdout",
     "output_type": "stream",
     "text": [
      "   vif_factor        Features\n",
      "0    1.176818    Other_Income\n",
      "1    1.107197        Overtime\n",
      "2    3.914703      Retirement\n",
      "3    3.699482  Other_Benefits\n"
     ]
    }
   ],
   "source": [
    "for ind_var in range(len(df_ind.select_dtypes(include = np.number).columns)):\n",
    "    vif = pd.DataFrame()\n",
    "    \n",
    "    vif[\"vif_factor\"] = [variance_inflation_factor(df_ind.select_dtypes(include = np.number).values,i) for i in range(df_ind.select_dtypes(include = np.number).shape[1])]\n",
    "    \n",
    "    vif[\"Features\"] = df_ind.select_dtypes(include = np.number).columns\n",
    "    \n",
    "    multi = vif[vif[\"vif_factor\"]>10]\n",
    "    \n",
    "    if multi.empty==False:\n",
    "        df_sorted = multi.sort_values(by = \"vif_factor\", ascending  = False)\n",
    "    else:\n",
    "        print(vif)\n",
    "        break\n",
    "    \n",
    "    if df_sorted.empty==False:\n",
    "        df_ind =  df_ind.drop(df_sorted.Features.iloc[0], axis = 1)\n",
    "    else:\n",
    "        print(vif)\n",
    "    "
   ]
  },
  {
   "cell_type": "markdown",
   "id": "d9a35e8c",
   "metadata": {},
   "source": [
    "We have now obtained all the variables with  VIF less than 10 and therefore we can conclude that there isn't high level of multicollinearity present in the data affectig the model building process. Let's use the significant variables obtained above to build MLR model."
   ]
  },
  {
   "cell_type": "markdown",
   "id": "1a8c31d6",
   "metadata": {},
   "source": [
    "**MLR Model after removing insignificant variables**"
   ]
  },
  {
   "cell_type": "code",
   "execution_count": 33,
   "id": "cd8cacbd",
   "metadata": {},
   "outputs": [],
   "source": [
    "df_num = df_ind.select_dtypes(include = np.number)"
   ]
  },
  {
   "cell_type": "code",
   "execution_count": 34,
   "id": "d5415fb2",
   "metadata": {},
   "outputs": [],
   "source": [
    "df_cat = df_ind.select_dtypes(include = \"object\")"
   ]
  },
  {
   "cell_type": "code",
   "execution_count": 35,
   "id": "03f560b9",
   "metadata": {},
   "outputs": [],
   "source": [
    "df_cat_encoded = pd.get_dummies(data = df_cat, drop_first = True)"
   ]
  },
  {
   "cell_type": "code",
   "execution_count": 36,
   "id": "17f6619d",
   "metadata": {},
   "outputs": [
    {
     "data": {
      "text/html": [
       "<div>\n",
       "<style scoped>\n",
       "    .dataframe tbody tr th:only-of-type {\n",
       "        vertical-align: middle;\n",
       "    }\n",
       "\n",
       "    .dataframe tbody tr th {\n",
       "        vertical-align: top;\n",
       "    }\n",
       "\n",
       "    .dataframe thead th {\n",
       "        text-align: right;\n",
       "    }\n",
       "</style>\n",
       "<table border=\"1\" class=\"dataframe\">\n",
       "  <thead>\n",
       "    <tr style=\"text-align: right;\">\n",
       "      <th></th>\n",
       "      <th>Other_Income</th>\n",
       "      <th>Overtime</th>\n",
       "      <th>Retirement</th>\n",
       "      <th>Other_Benefits</th>\n",
       "      <th>Year_2016</th>\n",
       "      <th>Year_2017</th>\n",
       "      <th>Year_2018</th>\n",
       "      <th>Type_of_yr_Financial</th>\n",
       "    </tr>\n",
       "  </thead>\n",
       "  <tbody>\n",
       "    <tr>\n",
       "      <th>0</th>\n",
       "      <td>-0.476490</td>\n",
       "      <td>-0.234452</td>\n",
       "      <td>1.173979</td>\n",
       "      <td>1.141809</td>\n",
       "      <td>0</td>\n",
       "      <td>0</td>\n",
       "      <td>0</td>\n",
       "      <td>1</td>\n",
       "    </tr>\n",
       "    <tr>\n",
       "      <th>1</th>\n",
       "      <td>-0.588288</td>\n",
       "      <td>-0.175596</td>\n",
       "      <td>-1.186991</td>\n",
       "      <td>-1.269397</td>\n",
       "      <td>0</td>\n",
       "      <td>0</td>\n",
       "      <td>0</td>\n",
       "      <td>0</td>\n",
       "    </tr>\n",
       "    <tr>\n",
       "      <th>3</th>\n",
       "      <td>0.091141</td>\n",
       "      <td>-0.431758</td>\n",
       "      <td>-0.037175</td>\n",
       "      <td>-0.043455</td>\n",
       "      <td>0</td>\n",
       "      <td>0</td>\n",
       "      <td>1</td>\n",
       "      <td>1</td>\n",
       "    </tr>\n",
       "    <tr>\n",
       "      <th>4</th>\n",
       "      <td>-0.588288</td>\n",
       "      <td>-0.429544</td>\n",
       "      <td>-0.318048</td>\n",
       "      <td>-0.263809</td>\n",
       "      <td>0</td>\n",
       "      <td>1</td>\n",
       "      <td>0</td>\n",
       "      <td>1</td>\n",
       "    </tr>\n",
       "    <tr>\n",
       "      <th>5</th>\n",
       "      <td>0.015084</td>\n",
       "      <td>-0.431020</td>\n",
       "      <td>0.506986</td>\n",
       "      <td>0.698634</td>\n",
       "      <td>0</td>\n",
       "      <td>1</td>\n",
       "      <td>0</td>\n",
       "      <td>0</td>\n",
       "    </tr>\n",
       "  </tbody>\n",
       "</table>\n",
       "</div>"
      ],
      "text/plain": [
       "   Other_Income  Overtime  Retirement  Other_Benefits  Year_2016  Year_2017  \\\n",
       "0     -0.476490 -0.234452    1.173979        1.141809          0          0   \n",
       "1     -0.588288 -0.175596   -1.186991       -1.269397          0          0   \n",
       "3      0.091141 -0.431758   -0.037175       -0.043455          0          0   \n",
       "4     -0.588288 -0.429544   -0.318048       -0.263809          0          1   \n",
       "5      0.015084 -0.431020    0.506986        0.698634          0          1   \n",
       "\n",
       "   Year_2018  Type_of_yr_Financial  \n",
       "0          0                     1  \n",
       "1          0                     0  \n",
       "3          1                     1  \n",
       "4          0                     1  \n",
       "5          0                     0  "
      ]
     },
     "execution_count": 36,
     "metadata": {},
     "output_type": "execute_result"
    }
   ],
   "source": [
    "df_ind_signi = pd.concat([df_num,df_cat_encoded], axis = 1)\n",
    "df_ind_signi.head()"
   ]
  },
  {
   "cell_type": "code",
   "execution_count": 37,
   "id": "0dcdc553",
   "metadata": {},
   "outputs": [
    {
     "data": {
      "text/html": [
       "<div>\n",
       "<style scoped>\n",
       "    .dataframe tbody tr th:only-of-type {\n",
       "        vertical-align: middle;\n",
       "    }\n",
       "\n",
       "    .dataframe tbody tr th {\n",
       "        vertical-align: top;\n",
       "    }\n",
       "\n",
       "    .dataframe thead th {\n",
       "        text-align: right;\n",
       "    }\n",
       "</style>\n",
       "<table border=\"1\" class=\"dataframe\">\n",
       "  <thead>\n",
       "    <tr style=\"text-align: right;\">\n",
       "      <th></th>\n",
       "      <th>const</th>\n",
       "      <th>Other_Income</th>\n",
       "      <th>Overtime</th>\n",
       "      <th>Retirement</th>\n",
       "      <th>Other_Benefits</th>\n",
       "      <th>Year_2016</th>\n",
       "      <th>Year_2017</th>\n",
       "      <th>Year_2018</th>\n",
       "      <th>Type_of_yr_Financial</th>\n",
       "    </tr>\n",
       "  </thead>\n",
       "  <tbody>\n",
       "    <tr>\n",
       "      <th>0</th>\n",
       "      <td>1.000000</td>\n",
       "      <td>-0.476490</td>\n",
       "      <td>-0.234452</td>\n",
       "      <td>1.173979</td>\n",
       "      <td>1.141809</td>\n",
       "      <td>0</td>\n",
       "      <td>0</td>\n",
       "      <td>0</td>\n",
       "      <td>1</td>\n",
       "    </tr>\n",
       "    <tr>\n",
       "      <th>1</th>\n",
       "      <td>1.000000</td>\n",
       "      <td>-0.588288</td>\n",
       "      <td>-0.175596</td>\n",
       "      <td>-1.186991</td>\n",
       "      <td>-1.269397</td>\n",
       "      <td>0</td>\n",
       "      <td>0</td>\n",
       "      <td>0</td>\n",
       "      <td>0</td>\n",
       "    </tr>\n",
       "    <tr>\n",
       "      <th>3</th>\n",
       "      <td>1.000000</td>\n",
       "      <td>0.091141</td>\n",
       "      <td>-0.431758</td>\n",
       "      <td>-0.037175</td>\n",
       "      <td>-0.043455</td>\n",
       "      <td>0</td>\n",
       "      <td>0</td>\n",
       "      <td>1</td>\n",
       "      <td>1</td>\n",
       "    </tr>\n",
       "    <tr>\n",
       "      <th>4</th>\n",
       "      <td>1.000000</td>\n",
       "      <td>-0.588288</td>\n",
       "      <td>-0.429544</td>\n",
       "      <td>-0.318048</td>\n",
       "      <td>-0.263809</td>\n",
       "      <td>0</td>\n",
       "      <td>1</td>\n",
       "      <td>0</td>\n",
       "      <td>1</td>\n",
       "    </tr>\n",
       "    <tr>\n",
       "      <th>5</th>\n",
       "      <td>1.000000</td>\n",
       "      <td>0.015084</td>\n",
       "      <td>-0.431020</td>\n",
       "      <td>0.506986</td>\n",
       "      <td>0.698634</td>\n",
       "      <td>0</td>\n",
       "      <td>1</td>\n",
       "      <td>0</td>\n",
       "      <td>0</td>\n",
       "    </tr>\n",
       "  </tbody>\n",
       "</table>\n",
       "</div>"
      ],
      "text/plain": [
       "     const  Other_Income  Overtime  Retirement  Other_Benefits  Year_2016  \\\n",
       "0 1.000000     -0.476490 -0.234452    1.173979        1.141809          0   \n",
       "1 1.000000     -0.588288 -0.175596   -1.186991       -1.269397          0   \n",
       "3 1.000000      0.091141 -0.431758   -0.037175       -0.043455          0   \n",
       "4 1.000000     -0.588288 -0.429544   -0.318048       -0.263809          0   \n",
       "5 1.000000      0.015084 -0.431020    0.506986        0.698634          0   \n",
       "\n",
       "   Year_2017  Year_2018  Type_of_yr_Financial  \n",
       "0          0          0                     1  \n",
       "1          0          0                     0  \n",
       "3          0          1                     1  \n",
       "4          1          0                     1  \n",
       "5          1          0                     0  "
      ]
     },
     "execution_count": 37,
     "metadata": {},
     "output_type": "execute_result"
    }
   ],
   "source": [
    "x_signi_var = df_ind_signi\n",
    "y_var = df_dep\n",
    "\n",
    "x_signi_var = sm.add_constant(x_signi_var)\n",
    "x_signi_var.head()"
   ]
  },
  {
   "cell_type": "code",
   "execution_count": 38,
   "id": "ef9eee1f",
   "metadata": {},
   "outputs": [
    {
     "name": "stdout",
     "output_type": "stream",
     "text": [
      "X Train Shape: (26320, 9)\n",
      "X Test Shape: (11281, 9)\n",
      "Y Train Shape: (26320,)\n",
      "Y Test Shape: (11281,)\n"
     ]
    }
   ],
   "source": [
    "x_train_signi,x_test_signi,y_train,y_test = train_test_split(x_signi_var, y_var, test_size = 0.3, random_state = 1)\n",
    "print(\"X Train Shape:\",x_train_signi.shape)\n",
    "print(\"X Test Shape:\",x_test_signi.shape)\n",
    "print(\"Y Train Shape:\",y_train.shape)\n",
    "print(\"Y Test Shape:\",y_test.shape)"
   ]
  },
  {
   "cell_type": "code",
   "execution_count": 39,
   "id": "aee3a406",
   "metadata": {},
   "outputs": [
    {
     "name": "stdout",
     "output_type": "stream",
     "text": [
      "                             OLS Regression Results                            \n",
      "===============================================================================\n",
      "Dep. Variable:     Total_Reimbursement   R-squared:                       0.962\n",
      "Model:                             OLS   Adj. R-squared:                  0.962\n",
      "Method:                  Least Squares   F-statistic:                 8.218e+04\n",
      "Date:                 Mon, 10 Feb 2025   Prob (F-statistic):               0.00\n",
      "Time:                         23:46:04   Log-Likelihood:                 5494.7\n",
      "No. Observations:                26320   AIC:                        -1.097e+04\n",
      "Df Residuals:                    26311   BIC:                        -1.090e+04\n",
      "Df Model:                            8                                         \n",
      "Covariance Type:             nonrobust                                         \n",
      "========================================================================================\n",
      "                           coef    std err          t      P>|t|      [0.025      0.975]\n",
      "----------------------------------------------------------------------------------------\n",
      "const                   -0.0454      0.003    -17.418      0.000      -0.050      -0.040\n",
      "Other_Income             0.0563      0.001     42.864      0.000       0.054       0.059\n",
      "Overtime                 0.0161      0.001     12.692      0.000       0.014       0.019\n",
      "Retirement               0.7582      0.002    309.327      0.000       0.753       0.763\n",
      "Other_Benefits           0.2300      0.002     96.794      0.000       0.225       0.235\n",
      "Year_2016                0.1115      0.004     27.297      0.000       0.104       0.120\n",
      "Year_2017                0.0989      0.003     30.513      0.000       0.093       0.105\n",
      "Year_2018                0.0019      0.003      0.603      0.547      -0.004       0.008\n",
      "Type_of_yr_Financial     0.0019      0.003      0.714      0.475      -0.003       0.007\n",
      "==============================================================================\n",
      "Omnibus:                    12755.584   Durbin-Watson:                   1.965\n",
      "Prob(Omnibus):                  0.000   Jarque-Bera (JB):           939423.249\n",
      "Skew:                           1.478   Prob(JB):                         0.00\n",
      "Kurtosis:                      32.118   Cond. No.                         6.05\n",
      "==============================================================================\n",
      "\n",
      "Notes:\n",
      "[1] Standard Errors assume that the covariance matrix of the errors is correctly specified.\n"
     ]
    }
   ],
   "source": [
    "MLR_Model_signi = sm.OLS(y_train, x_train_signi).fit()\n",
    "print(MLR_Model_signi.summary())"
   ]
  },
  {
   "cell_type": "markdown",
   "id": "1e760c0c",
   "metadata": {},
   "source": [
    " **Inference:** The R-Squared value obtained from this model is 0.962 which means that the above model explains 96.2% of the variation in the Total_Reimbursement. Also, we can see the p-value for some variables is greater than 0.05, we remove such variables and again build the model. "
   ]
  },
  {
   "cell_type": "markdown",
   "id": "c7fa1f5b",
   "metadata": {},
   "source": [
    "**Calculation of p-values to identify the insignificant variables**"
   ]
  },
  {
   "cell_type": "code",
   "execution_count": 40,
   "id": "6c84f795",
   "metadata": {},
   "outputs": [
    {
     "data": {
      "text/html": [
       "<div>\n",
       "<style scoped>\n",
       "    .dataframe tbody tr th:only-of-type {\n",
       "        vertical-align: middle;\n",
       "    }\n",
       "\n",
       "    .dataframe tbody tr th {\n",
       "        vertical-align: top;\n",
       "    }\n",
       "\n",
       "    .dataframe thead th {\n",
       "        text-align: right;\n",
       "    }\n",
       "</style>\n",
       "<table border=\"1\" class=\"dataframe\">\n",
       "  <thead>\n",
       "    <tr style=\"text-align: right;\">\n",
       "      <th></th>\n",
       "      <th>P-Value</th>\n",
       "    </tr>\n",
       "  </thead>\n",
       "  <tbody>\n",
       "    <tr>\n",
       "      <th>const</th>\n",
       "      <td>0.000000</td>\n",
       "    </tr>\n",
       "    <tr>\n",
       "      <th>Other_Income</th>\n",
       "      <td>0.000000</td>\n",
       "    </tr>\n",
       "    <tr>\n",
       "      <th>Overtime</th>\n",
       "      <td>0.000000</td>\n",
       "    </tr>\n",
       "    <tr>\n",
       "      <th>Retirement</th>\n",
       "      <td>0.000000</td>\n",
       "    </tr>\n",
       "    <tr>\n",
       "      <th>Other_Benefits</th>\n",
       "      <td>0.000000</td>\n",
       "    </tr>\n",
       "    <tr>\n",
       "      <th>Year_2016</th>\n",
       "      <td>0.000000</td>\n",
       "    </tr>\n",
       "    <tr>\n",
       "      <th>Year_2017</th>\n",
       "      <td>0.000000</td>\n",
       "    </tr>\n",
       "    <tr>\n",
       "      <th>Year_2018</th>\n",
       "      <td>0.546668</td>\n",
       "    </tr>\n",
       "    <tr>\n",
       "      <th>Type_of_yr_Financial</th>\n",
       "      <td>0.475203</td>\n",
       "    </tr>\n",
       "  </tbody>\n",
       "</table>\n",
       "</div>"
      ],
      "text/plain": [
       "                      P-Value\n",
       "const                0.000000\n",
       "Other_Income         0.000000\n",
       "Overtime             0.000000\n",
       "Retirement           0.000000\n",
       "Other_Benefits       0.000000\n",
       "Year_2016            0.000000\n",
       "Year_2017            0.000000\n",
       "Year_2018            0.546668\n",
       "Type_of_yr_Financial 0.475203"
      ]
     },
     "execution_count": 40,
     "metadata": {},
     "output_type": "execute_result"
    }
   ],
   "source": [
    "MLR_model_signi_pvalues = pd.DataFrame(MLR_Model_signi.pvalues, columns = [\"P-Value\"])\n",
    "MLR_model_signi_pvalues"
   ]
  },
  {
   "cell_type": "code",
   "execution_count": 41,
   "id": "50715e22",
   "metadata": {},
   "outputs": [
    {
     "name": "stdout",
     "output_type": "stream",
     "text": [
      "Insignificant Variables: ['Year_2018', 'Type_of_yr_Financial']\n"
     ]
    }
   ],
   "source": [
    "insignificant_var = MLR_model_signi_pvalues[1:][MLR_model_signi_pvalues[1:][\"P-Value\"] > 0.05]\n",
    "print(\"Insignificant Variables:\",insignificant_var.index.to_list())"
   ]
  },
  {
   "cell_type": "markdown",
   "id": "7500f9ff",
   "metadata": {},
   "source": [
    "Let's Drop 'Type_of_yr_Financial' as one categorical variable that is insignificant. We'll retain the variable 'Year_2018' as it is one out of the four categories that also has similar categories for different years."
   ]
  },
  {
   "cell_type": "code",
   "execution_count": 42,
   "id": "fafd03fc",
   "metadata": {},
   "outputs": [],
   "source": [
    "x_train_signi.drop(['Type_of_yr_Financial'], axis = 1, inplace = True)\n",
    "x_test_signi.drop(['Type_of_yr_Financial'], axis = 1, inplace = True)"
   ]
  },
  {
   "cell_type": "code",
   "execution_count": 43,
   "id": "7300a3eb",
   "metadata": {},
   "outputs": [
    {
     "name": "stdout",
     "output_type": "stream",
     "text": [
      "                             OLS Regression Results                            \n",
      "===============================================================================\n",
      "Dep. Variable:     Total_Reimbursement   R-squared:                       0.962\n",
      "Model:                             OLS   Adj. R-squared:                  0.962\n",
      "Method:                  Least Squares   F-statistic:                 9.392e+04\n",
      "Date:                 Mon, 10 Feb 2025   Prob (F-statistic):               0.00\n",
      "Time:                         23:46:04   Log-Likelihood:                 5494.4\n",
      "No. Observations:                26320   AIC:                        -1.097e+04\n",
      "Df Residuals:                    26312   BIC:                        -1.091e+04\n",
      "Df Model:                            7                                         \n",
      "Covariance Type:             nonrobust                                         \n",
      "==================================================================================\n",
      "                     coef    std err          t      P>|t|      [0.025      0.975]\n",
      "----------------------------------------------------------------------------------\n",
      "const             -0.0444      0.002    -19.797      0.000      -0.049      -0.040\n",
      "Other_Income       0.0563      0.001     42.860      0.000       0.054       0.059\n",
      "Overtime           0.0161      0.001     12.691      0.000       0.014       0.019\n",
      "Retirement         0.7582      0.002    309.332      0.000       0.753       0.763\n",
      "Other_Benefits     0.2300      0.002     96.798      0.000       0.225       0.235\n",
      "Year_2016          0.1125      0.004     29.036      0.000       0.105       0.120\n",
      "Year_2017          0.0989      0.003     30.512      0.000       0.093       0.105\n",
      "Year_2018          0.0019      0.003      0.597      0.551      -0.004       0.008\n",
      "==============================================================================\n",
      "Omnibus:                    12762.143   Durbin-Watson:                   1.965\n",
      "Prob(Omnibus):                  0.000   Jarque-Bera (JB):           939475.220\n",
      "Skew:                           1.479   Prob(JB):                         0.00\n",
      "Kurtosis:                      32.119   Cond. No.                         6.03\n",
      "==============================================================================\n",
      "\n",
      "Notes:\n",
      "[1] Standard Errors assume that the covariance matrix of the errors is correctly specified.\n"
     ]
    }
   ],
   "source": [
    "# Building the model again on the training dataset\n",
    "MLR_model_signi_1 = sm.OLS(y_train, x_train_signi).fit()\n",
    "print(MLR_model_signi_1.summary())"
   ]
  },
  {
   "cell_type": "markdown",
   "id": "364640a9",
   "metadata": {},
   "source": [
    "**Inference:** The R-Squared value 0.962 tells us that the model explains 96.2% variation in the Total_Reimbursement."
   ]
  },
  {
   "cell_type": "markdown",
   "id": "7ff06c65",
   "metadata": {},
   "source": [
    "Durbin Watson test is used to check autocorrelation between residuals.\n",
    "Here, the Durbin-Watson test statistic is 1.965 i.e. 2(approx.). Hence, we can conclude that there is **no autocorrelation** between residuals.\n",
    "\n"
   ]
  },
  {
   "cell_type": "markdown",
   "id": "b2e1f0bb",
   "metadata": {},
   "source": [
    "Durbin-Watson Test Inference guide:\n",
    "> Durbin-Watson test statistic is near to 2: No autocorrelation.\n",
    "\n",
    "> Durbin-Watson test statistic is between 0 and 2: Positive autocorrelation.\n",
    "\n",
    "> Durbin-Watson test statistic is between 2 and 4: Negative autocorrelation."
   ]
  },
  {
   "cell_type": "markdown",
   "id": "e8bae5b0",
   "metadata": {},
   "source": [
    "Jarque-Bera test is used to check the normality of residuals. Here, the p-value of Jarque-Bera test is less than 0.05. Hence, we reject null hypothesis thereby concluding that residuals are not normally distributed."
   ]
  },
  {
   "cell_type": "markdown",
   "id": "b02ea8ee",
   "metadata": {},
   "source": [
    "Cond. No. - Condition Number is used to check multicollinearity\n",
    "\n",
    "If CN < 100 No Multicollinearity.\n",
    "\n",
    "If CN is between 100 and 1000: Moderate Multicollinearity.\n",
    "\n",
    "If CN > 1000: Severe Multicollinearity."
   ]
  },
  {
   "cell_type": "markdown",
   "id": "8a3c5cf9",
   "metadata": {},
   "source": [
    "Here, the Cond. No. is less than 6.03. Therefore, there is no multicollinearity."
   ]
  },
  {
   "cell_type": "markdown",
   "id": "813c8cea",
   "metadata": {},
   "source": [
    "**Now, let's predict the Total_Reimbursement using X_test_signi_var**"
   ]
  },
  {
   "cell_type": "code",
   "execution_count": 44,
   "id": "eea6a885",
   "metadata": {},
   "outputs": [
    {
     "data": {
      "text/plain": [
       "41695    0.333985\n",
       "76      -1.087138\n",
       "38316   -1.165507\n",
       "25510   -0.959778\n",
       "6356    -1.002021\n",
       "           ...   \n",
       "37270    0.233848\n",
       "7295     0.599475\n",
       "9990     2.575039\n",
       "23066   -0.385424\n",
       "25924    1.630031\n",
       "Length: 11281, dtype: float64"
      ]
     },
     "execution_count": 44,
     "metadata": {},
     "output_type": "execute_result"
    }
   ],
   "source": [
    "y_test_pred_signi_var = MLR_model_signi_1.predict(x_test_signi)\n",
    "y_test_pred_signi_var"
   ]
  },
  {
   "cell_type": "code",
   "execution_count": 45,
   "id": "05eb2fdd",
   "metadata": {},
   "outputs": [
    {
     "data": {
      "text/html": [
       "<div>\n",
       "<style scoped>\n",
       "    .dataframe tbody tr th:only-of-type {\n",
       "        vertical-align: middle;\n",
       "    }\n",
       "\n",
       "    .dataframe tbody tr th {\n",
       "        vertical-align: top;\n",
       "    }\n",
       "\n",
       "    .dataframe thead th {\n",
       "        text-align: right;\n",
       "    }\n",
       "</style>\n",
       "<table border=\"1\" class=\"dataframe\">\n",
       "  <thead>\n",
       "    <tr style=\"text-align: right;\">\n",
       "      <th></th>\n",
       "      <th>const</th>\n",
       "      <th>Other_Income</th>\n",
       "      <th>Overtime</th>\n",
       "      <th>Retirement</th>\n",
       "      <th>Other_Benefits</th>\n",
       "      <th>Year_2016</th>\n",
       "      <th>Year_2017</th>\n",
       "      <th>Year_2018</th>\n",
       "      <th>Total_Reimbursement</th>\n",
       "      <th>Predicted-Total_Reimbursement</th>\n",
       "    </tr>\n",
       "  </thead>\n",
       "  <tbody>\n",
       "    <tr>\n",
       "      <th>41695</th>\n",
       "      <td>1.000000</td>\n",
       "      <td>2.865151</td>\n",
       "      <td>1.411466</td>\n",
       "      <td>0.526144</td>\n",
       "      <td>-0.889505</td>\n",
       "      <td>0</td>\n",
       "      <td>0</td>\n",
       "      <td>0</td>\n",
       "      <td>0.545572</td>\n",
       "      <td>0.333985</td>\n",
       "    </tr>\n",
       "    <tr>\n",
       "      <th>76</th>\n",
       "      <td>1.000000</td>\n",
       "      <td>0.262331</td>\n",
       "      <td>-0.429544</td>\n",
       "      <td>-1.147312</td>\n",
       "      <td>-1.215770</td>\n",
       "      <td>0</td>\n",
       "      <td>1</td>\n",
       "      <td>0</td>\n",
       "      <td>-1.274451</td>\n",
       "      <td>-1.087138</td>\n",
       "    </tr>\n",
       "    <tr>\n",
       "      <th>38316</th>\n",
       "      <td>1.000000</td>\n",
       "      <td>-0.512247</td>\n",
       "      <td>-0.431020</td>\n",
       "      <td>-1.186877</td>\n",
       "      <td>-0.806316</td>\n",
       "      <td>0</td>\n",
       "      <td>0</td>\n",
       "      <td>0</td>\n",
       "      <td>-0.881266</td>\n",
       "      <td>-1.165507</td>\n",
       "    </tr>\n",
       "    <tr>\n",
       "      <th>25510</th>\n",
       "      <td>1.000000</td>\n",
       "      <td>-0.358379</td>\n",
       "      <td>-0.431020</td>\n",
       "      <td>-1.186991</td>\n",
       "      <td>-0.379089</td>\n",
       "      <td>0</td>\n",
       "      <td>1</td>\n",
       "      <td>0</td>\n",
       "      <td>-0.658158</td>\n",
       "      <td>-0.959778</td>\n",
       "    </tr>\n",
       "    <tr>\n",
       "      <th>6356</th>\n",
       "      <td>1.000000</td>\n",
       "      <td>-0.400181</td>\n",
       "      <td>-0.432495</td>\n",
       "      <td>-0.902021</td>\n",
       "      <td>-1.061878</td>\n",
       "      <td>0</td>\n",
       "      <td>0</td>\n",
       "      <td>0</td>\n",
       "      <td>-1.076795</td>\n",
       "      <td>-1.002021</td>\n",
       "    </tr>\n",
       "    <tr>\n",
       "      <th>...</th>\n",
       "      <td>...</td>\n",
       "      <td>...</td>\n",
       "      <td>...</td>\n",
       "      <td>...</td>\n",
       "      <td>...</td>\n",
       "      <td>...</td>\n",
       "      <td>...</td>\n",
       "      <td>...</td>\n",
       "      <td>...</td>\n",
       "      <td>...</td>\n",
       "    </tr>\n",
       "    <tr>\n",
       "      <th>37270</th>\n",
       "      <td>1.000000</td>\n",
       "      <td>-0.588288</td>\n",
       "      <td>-0.431020</td>\n",
       "      <td>0.155524</td>\n",
       "      <td>0.382518</td>\n",
       "      <td>1</td>\n",
       "      <td>0</td>\n",
       "      <td>0</td>\n",
       "      <td>0.287916</td>\n",
       "      <td>0.233848</td>\n",
       "    </tr>\n",
       "    <tr>\n",
       "      <th>7295</th>\n",
       "      <td>1.000000</td>\n",
       "      <td>-0.588288</td>\n",
       "      <td>-0.429544</td>\n",
       "      <td>0.544344</td>\n",
       "      <td>0.749370</td>\n",
       "      <td>0</td>\n",
       "      <td>1</td>\n",
       "      <td>0</td>\n",
       "      <td>0.612039</td>\n",
       "      <td>0.599475</td>\n",
       "    </tr>\n",
       "    <tr>\n",
       "      <th>9990</th>\n",
       "      <td>1.000000</td>\n",
       "      <td>-0.065769</td>\n",
       "      <td>-0.430282</td>\n",
       "      <td>2.852912</td>\n",
       "      <td>2.022837</td>\n",
       "      <td>0</td>\n",
       "      <td>0</td>\n",
       "      <td>1</td>\n",
       "      <td>2.664121</td>\n",
       "      <td>2.575039</td>\n",
       "    </tr>\n",
       "    <tr>\n",
       "      <th>23066</th>\n",
       "      <td>1.000000</td>\n",
       "      <td>0.044604</td>\n",
       "      <td>0.310118</td>\n",
       "      <td>-0.867454</td>\n",
       "      <td>1.344428</td>\n",
       "      <td>0</td>\n",
       "      <td>0</td>\n",
       "      <td>0</td>\n",
       "      <td>-0.572231</td>\n",
       "      <td>-0.385424</td>\n",
       "    </tr>\n",
       "    <tr>\n",
       "      <th>25924</th>\n",
       "      <td>1.000000</td>\n",
       "      <td>-0.588288</td>\n",
       "      <td>-0.428807</td>\n",
       "      <td>1.585663</td>\n",
       "      <td>1.797505</td>\n",
       "      <td>0</td>\n",
       "      <td>1</td>\n",
       "      <td>0</td>\n",
       "      <td>1.702876</td>\n",
       "      <td>1.630031</td>\n",
       "    </tr>\n",
       "  </tbody>\n",
       "</table>\n",
       "<p>11281 rows × 10 columns</p>\n",
       "</div>"
      ],
      "text/plain": [
       "         const  Other_Income  Overtime  Retirement  Other_Benefits  Year_2016  \\\n",
       "41695 1.000000      2.865151  1.411466    0.526144       -0.889505          0   \n",
       "76    1.000000      0.262331 -0.429544   -1.147312       -1.215770          0   \n",
       "38316 1.000000     -0.512247 -0.431020   -1.186877       -0.806316          0   \n",
       "25510 1.000000     -0.358379 -0.431020   -1.186991       -0.379089          0   \n",
       "6356  1.000000     -0.400181 -0.432495   -0.902021       -1.061878          0   \n",
       "...        ...           ...       ...         ...             ...        ...   \n",
       "37270 1.000000     -0.588288 -0.431020    0.155524        0.382518          1   \n",
       "7295  1.000000     -0.588288 -0.429544    0.544344        0.749370          0   \n",
       "9990  1.000000     -0.065769 -0.430282    2.852912        2.022837          0   \n",
       "23066 1.000000      0.044604  0.310118   -0.867454        1.344428          0   \n",
       "25924 1.000000     -0.588288 -0.428807    1.585663        1.797505          0   \n",
       "\n",
       "       Year_2017  Year_2018  Total_Reimbursement  \\\n",
       "41695          0          0             0.545572   \n",
       "76             1          0            -1.274451   \n",
       "38316          0          0            -0.881266   \n",
       "25510          1          0            -0.658158   \n",
       "6356           0          0            -1.076795   \n",
       "...          ...        ...                  ...   \n",
       "37270          0          0             0.287916   \n",
       "7295           1          0             0.612039   \n",
       "9990           0          1             2.664121   \n",
       "23066          0          0            -0.572231   \n",
       "25924          1          0             1.702876   \n",
       "\n",
       "       Predicted-Total_Reimbursement  \n",
       "41695                       0.333985  \n",
       "76                         -1.087138  \n",
       "38316                      -1.165507  \n",
       "25510                      -0.959778  \n",
       "6356                       -1.002021  \n",
       "...                              ...  \n",
       "37270                       0.233848  \n",
       "7295                        0.599475  \n",
       "9990                        2.575039  \n",
       "23066                      -0.385424  \n",
       "25924                       1.630031  \n",
       "\n",
       "[11281 rows x 10 columns]"
      ]
     },
     "execution_count": 45,
     "metadata": {},
     "output_type": "execute_result"
    }
   ],
   "source": [
    "predicted_df = pd.DataFrame(y_test_pred_signi_var, columns = [\"Predicted-Total_Reimbursement\"])\n",
    "\n",
    "final_act_pred_df = x_test_signi.join(y_test).join(predicted_df)\n",
    "final_act_pred_df"
   ]
  },
  {
   "cell_type": "markdown",
   "id": "0c869f0a",
   "metadata": {},
   "source": [
    "## Model Evaluation"
   ]
  },
  {
   "cell_type": "markdown",
   "id": "63afe64c",
   "metadata": {},
   "source": [
    "### R-Squared"
   ]
  },
  {
   "cell_type": "code",
   "execution_count": 46,
   "id": "3572c7d4",
   "metadata": {},
   "outputs": [
    {
     "name": "stdout",
     "output_type": "stream",
     "text": [
      "R-Squared: 0.9615185828120318\n"
     ]
    }
   ],
   "source": [
    "print(\"R-Squared:\",MLR_model_signi_1.rsquared)"
   ]
  },
  {
   "cell_type": "markdown",
   "id": "19b143f6",
   "metadata": {},
   "source": [
    "The value of R-Squared is 0.961. Therefore, we infer that 96.1% variation in Total_Reimbursement is explained by the model."
   ]
  },
  {
   "cell_type": "markdown",
   "id": "b9743ed3",
   "metadata": {},
   "source": [
    "### Adjusted R-Squared"
   ]
  },
  {
   "cell_type": "code",
   "execution_count": 47,
   "id": "8ce177f6",
   "metadata": {},
   "outputs": [
    {
     "name": "stdout",
     "output_type": "stream",
     "text": [
      "Adjusted R-Squared: 0.9615083452808554\n"
     ]
    }
   ],
   "source": [
    "print(\"Adjusted R-Squared:\",MLR_model_signi_1.rsquared_adj)"
   ]
  },
  {
   "cell_type": "markdown",
   "id": "03bc2597",
   "metadata": {},
   "source": [
    "## Model Performance"
   ]
  },
  {
   "cell_type": "code",
   "execution_count": 48,
   "id": "6526fd41",
   "metadata": {},
   "outputs": [],
   "source": [
    "train_pred = MLR_model_signi_1.predict(x_train_signi)\n",
    "test_pred = MLR_model_signi_1.predict(x_test_signi)"
   ]
  },
  {
   "cell_type": "markdown",
   "id": "62447bba",
   "metadata": {},
   "source": [
    "### Mean Squared Error (MSE)\n",
    "\n",
    "It is the average squared difference between actual and predicted values."
   ]
  },
  {
   "cell_type": "code",
   "execution_count": 49,
   "id": "2a258dae",
   "metadata": {},
   "outputs": [
    {
     "name": "stdout",
     "output_type": "stream",
     "text": [
      "Mean Squared error on Train Set: 0.0386\n",
      "\n",
      "Mean Squared error on Test Set: 0.0369\n"
     ]
    }
   ],
   "source": [
    "mse_train = round(mean_squared_error(y_train, train_pred),4)\n",
    "mse_test = round(mean_squared_error(y_test, test_pred),4)\n",
    "\n",
    "print(\"Mean Squared error on Train Set:\",mse_train)\n",
    "print()\n",
    "print(\"Mean Squared error on Test Set:\",mse_test)"
   ]
  },
  {
   "cell_type": "markdown",
   "id": "9bae84f0",
   "metadata": {},
   "source": [
    "### Root Mean Squared Error(RMSE)\n",
    "\n",
    "It is the square root of MSE. Lower the value of RMSE better is th fit of regression line."
   ]
  },
  {
   "cell_type": "code",
   "execution_count": 50,
   "id": "3b3bc12e",
   "metadata": {},
   "outputs": [
    {
     "name": "stdout",
     "output_type": "stream",
     "text": [
      "Root Mean Squared Error(RMSE) on Train Set: 0.1965\n",
      "\n",
      "Root Mean Squared Error(RMSE) on Test Set 0.1921\n"
     ]
    }
   ],
   "source": [
    "rmse_train = round(np.sqrt(mse_train),4)\n",
    "rmse_test = round(np.sqrt(mse_test),4)\n",
    "\n",
    "print(\"Root Mean Squared Error(RMSE) on Train Set:\",rmse_train)\n",
    "print()\n",
    "print(\"Root Mean Squared Error(RMSE) on Test Set\",rmse_test)"
   ]
  },
  {
   "cell_type": "markdown",
   "id": "f93d954c",
   "metadata": {},
   "source": [
    "### Mean Absolute Error (MAE)\n",
    "\n",
    "It is defined as the average of the absolute difference between actual and predicted value."
   ]
  },
  {
   "cell_type": "code",
   "execution_count": 51,
   "id": "79589216",
   "metadata": {},
   "outputs": [
    {
     "name": "stdout",
     "output_type": "stream",
     "text": [
      "Mean Absolute Error(MAE) on Train Set: 0.1159\n",
      "\n",
      "Mean Absolute Error(MAE) on Test Set: 0.1161\n"
     ]
    }
   ],
   "source": [
    "mae_train = round(mean_absolute_error(y_train, train_pred),4)\n",
    "mae_test = round(mean_absolute_error(y_test, test_pred),4)\n",
    "\n",
    "print(\"Mean Absolute Error(MAE) on Train Set:\",mae_train)\n",
    "print()\n",
    "print(\"Mean Absolute Error(MAE) on Test Set:\",mae_test)"
   ]
  },
  {
   "cell_type": "markdown",
   "id": "163f4209",
   "metadata": {},
   "source": [
    "### Mean Absolute Percentage Error(MAPE)\n",
    "\n",
    "It is calculated as a average of absolute percentage of errors. "
   ]
  },
  {
   "cell_type": "code",
   "execution_count": 52,
   "id": "f37ad1f9",
   "metadata": {},
   "outputs": [],
   "source": [
    "def mape(actual,predicted):\n",
    "    return np.mean(np.abs((actual-predicted)/actual))*100"
   ]
  },
  {
   "cell_type": "code",
   "execution_count": 53,
   "id": "582f0a85",
   "metadata": {},
   "outputs": [
    {
     "name": "stdout",
     "output_type": "stream",
     "text": [
      "Mean Absolute Percentage Error(MAPE) on Train Set: 166.5083\n",
      "\n",
      "Mean Absolute Percentage Error(MAPE) on Test Set: 48.902\n"
     ]
    }
   ],
   "source": [
    "mape_train = round(mape(y_train, train_pred),4)\n",
    "mape_test = round(mape(y_test, test_pred),4)\n",
    "\n",
    "print(\"Mean Absolute Percentage Error(MAPE) on Train Set:\",mape_train)\n",
    "print()\n",
    "print(\"Mean Absolute Percentage Error(MAPE) on Test Set:\",mape_test)"
   ]
  },
  {
   "cell_type": "markdown",
   "id": "f4e68230",
   "metadata": {},
   "source": [
    "Higher MAPE in train set tells us that there is a chance of overfitting and needs optimization to reduce overfitting."
   ]
  }
 ],
 "metadata": {
  "kernelspec": {
   "display_name": "Python 3 (ipykernel)",
   "language": "python",
   "name": "python3"
  },
  "language_info": {
   "codemirror_mode": {
    "name": "ipython",
    "version": 3
   },
   "file_extension": ".py",
   "mimetype": "text/x-python",
   "name": "python",
   "nbconvert_exporter": "python",
   "pygments_lexer": "ipython3",
   "version": "3.11.4"
  }
 },
 "nbformat": 4,
 "nbformat_minor": 5
}
